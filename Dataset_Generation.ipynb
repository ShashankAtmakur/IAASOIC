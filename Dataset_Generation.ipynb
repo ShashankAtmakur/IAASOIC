{
  "nbformat": 4,
  "nbformat_minor": 0,
  "metadata": {
    "colab": {
      "name": "Dataset Generation.ipynb",
      "version": "0.3.2",
      "provenance": [],
      "collapsed_sections": [],
      "include_colab_link": true
    },
    "kernelspec": {
      "name": "python3",
      "display_name": "Python 3"
    }
  },
  "cells": [
    {
      "cell_type": "markdown",
      "metadata": {
        "id": "view-in-github",
        "colab_type": "text"
      },
      "source": [
        "<a href=\"https://colab.research.google.com/github/jessalva/Adversarial-Attacks-Final-Year-Project/blob/master/Dataset_Generation.ipynb\" target=\"_parent\"><img src=\"https://colab.research.google.com/assets/colab-badge.svg\" alt=\"Open In Colab\"/></a>"
      ]
    },
    {
      "metadata": {
        "id": "e6H-VF7inl_6",
        "colab_type": "code",
        "outputId": "1d7de82b-bd03-4cec-a2ee-4f2f47c9d0d6",
        "colab": {
          "base_uri": "https://localhost:8080/",
          "height": 140
        }
      },
      "cell_type": "code",
      "source": [
        "!pip install captcha"
      ],
      "execution_count": 0,
      "outputs": [
        {
          "output_type": "stream",
          "text": [
            "Collecting captcha\n",
            "\u001b[?25l  Downloading https://files.pythonhosted.org/packages/90/fe/d4ddf1e6576073b5eaea76e9b2afa022c626212a30c871968480be3ccb7b/captcha-0.3-py3-none-any.whl (101kB)\n",
            "\u001b[K    100% |████████████████████████████████| 102kB 2.7MB/s \n",
            "\u001b[?25hRequirement already satisfied: Pillow in /usr/local/lib/python3.6/dist-packages (from captcha) (4.3.0)\n",
            "Requirement already satisfied: olefile in /usr/local/lib/python3.6/dist-packages (from Pillow->captcha) (0.46)\n",
            "Installing collected packages: captcha\n",
            "Successfully installed captcha-0.3\n"
          ],
          "name": "stdout"
        }
      ]
    },
    {
      "metadata": {
        "id": "EByv9gP7nw5c",
        "colab_type": "code",
        "outputId": "a06c126e-a042-4bcc-d767-4d18242da029",
        "colab": {
          "base_uri": "https://localhost:8080/",
          "height": 158
        }
      },
      "cell_type": "code",
      "source": [
        "!pip install progressbar"
      ],
      "execution_count": 0,
      "outputs": [
        {
          "output_type": "stream",
          "text": [
            "Collecting progressbar\n",
            "  Downloading https://files.pythonhosted.org/packages/a3/a6/b8e451f6cff1c99b4747a2f7235aa904d2d49e8e1464e0b798272aa84358/progressbar-2.5.tar.gz\n",
            "Building wheels for collected packages: progressbar\n",
            "  Building wheel for progressbar (setup.py) ... \u001b[?25ldone\n",
            "\u001b[?25h  Stored in directory: /root/.cache/pip/wheels/c0/e9/6b/ea01090205e285175842339aa3b491adeb4015206cda272ff0\n",
            "Successfully built progressbar\n",
            "Installing collected packages: progressbar\n",
            "Successfully installed progressbar-2.5\n"
          ],
          "name": "stdout"
        }
      ]
    },
    {
      "metadata": {
        "id": "pRwBCJK0nptV",
        "colab_type": "code",
        "colab": {}
      },
      "cell_type": "code",
      "source": [
        "import argparse\n",
        "import json\n",
        "import string\n",
        "import os\n",
        "import shutil\n",
        "import uuid\n",
        "from captcha.image import ImageCaptcha\n",
        "import random\n",
        "import itertools\n",
        "import progressbar"
      ],
      "execution_count": 0,
      "outputs": []
    },
    {
      "metadata": {
        "id": "qVSBaT94nzca",
        "colab_type": "code",
        "colab": {}
      },
      "cell_type": "code",
      "source": [
        "def get_choices():\n",
        "    return tuple([i for i in string.ascii_lowercase])"
      ],
      "execution_count": 0,
      "outputs": []
    },
    {
      "metadata": {
        "id": "sVlbArS2p1Vt",
        "colab_type": "code",
        "colab": {}
      },
      "cell_type": "code",
      "source": [
        "from IPython.display import HTML, display\n",
        "import time\n",
        "\n",
        "def progress(value, max=100):\n",
        "    return HTML(\"\"\"\n",
        "        <progress\n",
        "            value='{value}'\n",
        "            max='{max}',\n",
        "            style='width: 100%'\n",
        "        >\n",
        "            {value}\n",
        "        </progress>\n",
        "    \"\"\".format(value=value, max=max))\n"
      ],
      "execution_count": 0,
      "outputs": []
    },
    {
      "metadata": {
        "id": "wroq3IkkoKAq",
        "colab_type": "code",
        "colab": {}
      },
      "cell_type": "code",
      "source": [
        "def _gen_captcha(img_dir, num_per_image, n, width, height, choices):\n",
        "    if os.path.exists(img_dir):\n",
        "        shutil.rmtree(img_dir)\n",
        "    if not os.path.exists(img_dir):\n",
        "        os.makedirs(img_dir)\n",
        "\n",
        "    image = ImageCaptcha(width=width, height=height)\n",
        "    bar = progressbar.ProgressBar(maxval=24000000, widgets=[progressbar.Bar('=', '[', ']'), ' ', progressbar.Percentage()])\n",
        "    print('generating %s epoches of captchas in %s' % (n, img_dir))\n",
        "    k = 0\n",
        "    bar.start()\n",
        "\n",
        "    out = display(progress(0, 1000000), display_id=True)\n",
        "\n",
        "    for i in itertools.combinations(choices, num_per_image):\n",
        "         for j in itertools.permutations(i,6):                \n",
        "                captcha = ''.join(j)\n",
        "                fn = os.path.join(img_dir, '%s.png' % (captcha))\n",
        "                image.write(captcha, fn)\n",
        "                k += 1\n",
        "                bar.update(k) \n",
        "                out.update(progress(k, 1000000))\n",
        "                if k >= 1000000:\n",
        "                    bar.finish()                    \n",
        "                    break            \n",
        "         if k >= 1000000:\n",
        "                break"
      ],
      "execution_count": 0,
      "outputs": []
    },
    {
      "metadata": {
        "id": "bcoa0YxwoSLp",
        "colab_type": "code",
        "colab": {}
      },
      "cell_type": "code",
      "source": [
        "def build_file_path(x):\n",
        "    return os.path.join(os.getcwd(), x)\n"
      ],
      "execution_count": 0,
      "outputs": []
    },
    {
      "metadata": {
        "id": "2CuYOxefoT2E",
        "colab_type": "code",
        "colab": {}
      },
      "cell_type": "code",
      "source": [
        "def gen_dataset():\n",
        "    n_epoch = 1\n",
        "    num_per_image = 6\n",
        "\n",
        "    choices = get_choices()\n",
        "\n",
        "    width = 160\n",
        "    height = 100\n",
        "\n",
        "    # meta info\n",
        "    meta = {\n",
        "        'num_per_image': num_per_image,\n",
        "        'label_size': len(choices),\n",
        "        'label_choices': ''.join(choices),\n",
        "        'n_epoch': n_epoch,\n",
        "        'width': width,\n",
        "        'height': height,\n",
        "    }\n",
        "    print('%s choices: %s' % (len(choices), ''.join(choices) or None))\n",
        "    _gen_captcha(build_file_path('train'), num_per_image, n_epoch, width, height, choices=choices)\n",
        "\n"
      ],
      "execution_count": 0,
      "outputs": []
    },
    {
      "metadata": {
        "id": "GHsMMn0vohZj",
        "colab_type": "code",
        "outputId": "bb171792-4b40-48f8-c199-0ab45442047b",
        "colab": {
          "base_uri": "https://localhost:8080/",
          "height": 86
        }
      },
      "cell_type": "code",
      "source": [
        "gen_dataset()"
      ],
      "execution_count": 0,
      "outputs": [
        {
          "output_type": "stream",
          "text": [
            "[                                                                        ]   0%\r"
          ],
          "name": "stderr"
        },
        {
          "output_type": "stream",
          "text": [
            "26 choices: abcdefghijklmnopqrstuvwxyz\n",
            "generating 1 epoches of captchas in /content/train\n"
          ],
          "name": "stdout"
        },
        {
          "output_type": "display_data",
          "data": {
            "text/html": [
              "\n",
              "        <progress\n",
              "            value='1000000'\n",
              "            max='1000000',\n",
              "            style='width: 100%'\n",
              "        >\n",
              "            1000000\n",
              "        </progress>\n",
              "    "
            ],
            "text/plain": [
              "<IPython.core.display.HTML object>"
            ]
          },
          "metadata": {
            "tags": []
          }
        },
        {
          "output_type": "stream",
          "text": [
            "\n"
          ],
          "name": "stderr"
        }
      ]
    },
    {
      "metadata": {
        "id": "2P9CBvZ-ozZt",
        "colab_type": "code",
        "outputId": "21116a05-6f6d-4eb6-e4a6-2ca6d79e224e",
        "colab": {
          "base_uri": "https://localhost:8080/",
          "height": 70
        }
      },
      "cell_type": "code",
      "source": [
        "%mkdir /content/test\n",
        "%mkdir /content/validation\n",
        "%cd /content/train"
      ],
      "execution_count": 0,
      "outputs": [
        {
          "output_type": "stream",
          "text": [
            "mkdir: cannot create directory ‘/content/test’: File exists\n",
            "mkdir: cannot create directory ‘/content/validation’: File exists\n",
            "/content/train\n"
          ],
          "name": "stdout"
        }
      ]
    },
    {
      "metadata": {
        "id": "9RTqrgInp66G",
        "colab_type": "code",
        "colab": {}
      },
      "cell_type": "code",
      "source": [
        "!ls | shuf -n 10000 | xargs -i cp {} ../test/\n",
        "!ls | shuf -n 10000 | xargs -i cp {} ../validation"
      ],
      "execution_count": 0,
      "outputs": []
    },
    {
      "metadata": {
        "id": "pvgBh10SqAG4",
        "colab_type": "code",
        "colab": {}
      },
      "cell_type": "code",
      "source": [
        "import glob\n",
        "import re\n",
        "import tensorflow as tf\n",
        "from PIL import Image\n",
        "\n",
        "char_dict = {\n",
        "'a': 0, 'b': 1, 'c': 2, 'd': 3, 'e': 4, 'f': 5, 'g': 6, 'h': 7, 'i': 8,\n",
        "'j': 9, 'k': 10, 'l': 11, 'm': 12, 'n': 13, 'o': 14, 'p': 15, 'q': 16, 'r': 17,\n",
        "'s': 18, 't': 19, 'u': 20, 'v': 21, 'w': 22, 'x': 23, 'y': 24, 'z': 25\n",
        "}"
      ],
      "execution_count": 0,
      "outputs": []
    },
    {
      "metadata": {
        "id": "u5yLeNQjZ1NF",
        "colab_type": "code",
        "colab": {}
      },
      "cell_type": "code",
      "source": [
        "def load_image(filename):\n",
        "  with tf.gfile.FastGFile(filename, 'rb') as f:\n",
        "    image_data = f.read()\n",
        "  label = re.search('\\/(\\w{6})\\.png', filename).group(1)\n",
        "  label_num = []\n",
        "  for c in label:\n",
        "    label_num.append(char_dict[c])\n",
        "  return tf.compat.as_bytes(image_data), label_num"
      ],
      "execution_count": 0,
      "outputs": []
    },
    {
      "metadata": {
        "id": "5dth_UAaZ6Vr",
        "colab_type": "code",
        "colab": {}
      },
      "cell_type": "code",
      "source": [
        "def _bytes_feature(value):\n",
        "  return tf.train.Feature(bytes_list=tf.train.BytesList(value=[value]))\n",
        "\n",
        "def _int64_list_feature(list):\n",
        "  return tf.train.Feature(int64_list=tf.train.Int64List(value=list))"
      ],
      "execution_count": 0,
      "outputs": []
    },
    {
      "metadata": {
        "id": "RWNS1G61Z-5w",
        "colab_type": "code",
        "colab": {}
      },
      "cell_type": "code",
      "source": [
        "def write_to_trf_file(tfr_file_name, images_path):\n",
        "  writer = tf.python_io.TFRecordWriter(tfr_file_name)\n",
        "  images_list = glob.glob(images_path+\"/*.png\")\n",
        "  for image_path in images_list:\n",
        "    image, label = load_image(image_path)\n",
        "    feature = {'label': _int64_list_feature(label),\n",
        "               'image': _bytes_feature(image)}\n",
        "    example = tf.train.Example(features=tf.train.Features(feature=feature))\n",
        "    writer.write(example.SerializeToString())\n",
        "\n",
        "  writer.close()"
      ],
      "execution_count": 0,
      "outputs": []
    },
    {
      "metadata": {
        "id": "tlZJ8_RcaCNx",
        "colab_type": "code",
        "outputId": "892c19d6-5ec8-469d-c5fe-ac27553a4814",
        "colab": {
          "base_uri": "https://localhost:8080/",
          "height": 34
        }
      },
      "cell_type": "code",
      "source": [
        "%cd /\n",
        "write_to_trf_file('./captcha_train.tfrecord', '/content/train')\n",
        "write_to_trf_file('./captcha_validation.tfrecord', '/content/validation')\n",
        "write_to_trf_file('./captcha_test.tfrecord', '/content/test')"
      ],
      "execution_count": 0,
      "outputs": [
        {
          "output_type": "stream",
          "text": [
            "/\n"
          ],
          "name": "stdout"
        }
      ]
    },
    {
      "metadata": {
        "id": "qgCpBm3oaVfn",
        "colab_type": "code",
        "outputId": "c939cbce-7eab-43b2-dc80-c3b62d002823",
        "colab": {
          "base_uri": "https://localhost:8080/",
          "height": 34
        }
      },
      "cell_type": "code",
      "source": [
        "!ls *.tfrecord"
      ],
      "execution_count": 0,
      "outputs": [
        {
          "output_type": "stream",
          "text": [
            "captcha_test.tfrecord  captcha_train.tfrecord  captcha_validation.tfrecord\n"
          ],
          "name": "stdout"
        }
      ]
    },
    {
      "metadata": {
        "id": "J_HF_-5Dw5qR",
        "colab_type": "code",
        "outputId": "8f94d9b2-ee9d-41fd-d744-602ce3187e4f",
        "colab": {
          "base_uri": "https://localhost:8080/",
          "height": 52
        }
      },
      "cell_type": "code",
      "source": [
        "!pip install -U -q PyDrive\n",
        "\n",
        "from pydrive.auth import GoogleAuth\n",
        "from pydrive.drive import GoogleDrive\n",
        "from google.colab import auth\n",
        "from oauth2client.client import GoogleCredentials\n",
        "\n",
        "# 1. Authenticate and create the PyDrive client.\n",
        "auth.authenticate_user()\n",
        "gauth = GoogleAuth()\n",
        "gauth.credentials = GoogleCredentials.get_application_default()\n",
        "drive = GoogleDrive(gauth)"
      ],
      "execution_count": 0,
      "outputs": [
        {
          "output_type": "stream",
          "text": [
            "\u001b[?25l\r\u001b[K    1% |▎                               | 10kB 12.8MB/s eta 0:00:01\r\u001b[K    2% |▋                               | 20kB 1.8MB/s eta 0:00:01\r\u001b[K    3% |█                               | 30kB 2.6MB/s eta 0:00:01\r\u001b[K    4% |█▎                              | 40kB 1.7MB/s eta 0:00:01\r\u001b[K    5% |█▋                              | 51kB 2.1MB/s eta 0:00:01\r\u001b[K    6% |██                              | 61kB 2.5MB/s eta 0:00:01\r\u001b[K    7% |██▎                             | 71kB 2.9MB/s eta 0:00:01\r\u001b[K    8% |██▋                             | 81kB 3.2MB/s eta 0:00:01\r\u001b[K    9% |███                             | 92kB 3.6MB/s eta 0:00:01\r\u001b[K    10% |███▎                            | 102kB 2.8MB/s eta 0:00:01\r\u001b[K    11% |███▋                            | 112kB 2.8MB/s eta 0:00:01\r\u001b[K    12% |████                            | 122kB 4.0MB/s eta 0:00:01\r\u001b[K    13% |████▎                           | 133kB 4.0MB/s eta 0:00:01\r\u001b[K    14% |████▋                           | 143kB 7.4MB/s eta 0:00:01\r\u001b[K    15% |█████                           | 153kB 7.6MB/s eta 0:00:01\r\u001b[K    16% |█████▎                          | 163kB 7.6MB/s eta 0:00:01\r\u001b[K    17% |█████▋                          | 174kB 7.6MB/s eta 0:00:01\r\u001b[K    18% |██████                          | 184kB 7.7MB/s eta 0:00:01\r\u001b[K    19% |██████▎                         | 194kB 7.7MB/s eta 0:00:01\r\u001b[K    20% |██████▋                         | 204kB 36.5MB/s eta 0:00:01\r\u001b[K    21% |███████                         | 215kB 8.4MB/s eta 0:00:01\r\u001b[K    22% |███████▎                        | 225kB 8.3MB/s eta 0:00:01\r\u001b[K    23% |███████▋                        | 235kB 8.4MB/s eta 0:00:01\r\u001b[K    24% |████████                        | 245kB 8.4MB/s eta 0:00:01\r\u001b[K    25% |████████▎                       | 256kB 8.4MB/s eta 0:00:01\r\u001b[K    26% |████████▋                       | 266kB 8.1MB/s eta 0:00:01\r\u001b[K    27% |█████████                       | 276kB 8.2MB/s eta 0:00:01\r\u001b[K    29% |█████████▎                      | 286kB 8.2MB/s eta 0:00:01\r\u001b[K    30% |█████████▋                      | 296kB 8.2MB/s eta 0:00:01\r\u001b[K    31% |██████████                      | 307kB 8.5MB/s eta 0:00:01\r\u001b[K    32% |██████████▎                     | 317kB 43.7MB/s eta 0:00:01\r\u001b[K    33% |██████████▋                     | 327kB 47.2MB/s eta 0:00:01\r\u001b[K    34% |███████████                     | 337kB 49.8MB/s eta 0:00:01\r\u001b[K    35% |███████████▎                    | 348kB 43.6MB/s eta 0:00:01\r\u001b[K    36% |███████████▋                    | 358kB 43.6MB/s eta 0:00:01\r\u001b[K    37% |████████████                    | 368kB 53.8MB/s eta 0:00:01\r\u001b[K    38% |████████████▎                   | 378kB 9.6MB/s eta 0:00:01\r\u001b[K    39% |████████████▋                   | 389kB 9.4MB/s eta 0:00:01\r\u001b[K    40% |█████████████                   | 399kB 9.3MB/s eta 0:00:01\r\u001b[K    41% |█████████████▎                  | 409kB 9.2MB/s eta 0:00:01\r\u001b[K    42% |█████████████▋                  | 419kB 9.2MB/s eta 0:00:01\r\u001b[K    43% |██████████████                  | 430kB 9.2MB/s eta 0:00:01\r\u001b[K    44% |██████████████▎                 | 440kB 9.2MB/s eta 0:00:01\r\u001b[K    45% |██████████████▋                 | 450kB 9.2MB/s eta 0:00:01\r\u001b[K    46% |███████████████                 | 460kB 9.1MB/s eta 0:00:01\r\u001b[K    47% |███████████████▎                | 471kB 9.1MB/s eta 0:00:01\r\u001b[K    48% |███████████████▋                | 481kB 43.0MB/s eta 0:00:01\r\u001b[K    49% |████████████████                | 491kB 46.8MB/s eta 0:00:01\r\u001b[K    50% |████████████████▎               | 501kB 51.3MB/s eta 0:00:01\r\u001b[K    51% |████████████████▋               | 512kB 46.1MB/s eta 0:00:01\r\u001b[K    52% |█████████████████               | 522kB 46.7MB/s eta 0:00:01\r\u001b[K    53% |█████████████████▎              | 532kB 47.7MB/s eta 0:00:01\r\u001b[K    54% |█████████████████▋              | 542kB 47.6MB/s eta 0:00:01\r\u001b[K    55% |██████████████████              | 552kB 56.3MB/s eta 0:00:01\r\u001b[K    57% |██████████████████▎             | 563kB 59.5MB/s eta 0:00:01\r\u001b[K    58% |██████████████████▋             | 573kB 58.5MB/s eta 0:00:01\r\u001b[K    59% |███████████████████             | 583kB 58.3MB/s eta 0:00:01\r\u001b[K    60% |███████████████████▎            | 593kB 58.5MB/s eta 0:00:01\r\u001b[K    61% |███████████████████▋            | 604kB 58.8MB/s eta 0:00:01\r\u001b[K    62% |████████████████████            | 614kB 70.9MB/s eta 0:00:01\r\u001b[K    63% |████████████████████▎           | 624kB 70.3MB/s eta 0:00:01\r\u001b[K    64% |████████████████████▋           | 634kB 70.6MB/s eta 0:00:01\r\u001b[K    65% |█████████████████████           | 645kB 69.7MB/s eta 0:00:01\r\u001b[K    66% |█████████████████████▎          | 655kB 66.5MB/s eta 0:00:01\r\u001b[K    67% |█████████████████████▋          | 665kB 43.3MB/s eta 0:00:01\r\u001b[K    68% |██████████████████████          | 675kB 42.9MB/s eta 0:00:01\r\u001b[K    69% |██████████████████████▎         | 686kB 43.5MB/s eta 0:00:01\r\u001b[K    70% |██████████████████████▋         | 696kB 44.1MB/s eta 0:00:01\r\u001b[K    71% |███████████████████████         | 706kB 12.9MB/s eta 0:00:01\r\u001b[K    72% |███████████████████████▎        | 716kB 12.6MB/s eta 0:00:01\r\u001b[K    73% |███████████████████████▋        | 727kB 12.5MB/s eta 0:00:01\r\u001b[K    74% |████████████████████████        | 737kB 12.4MB/s eta 0:00:01\r\u001b[K    75% |████████████████████████▎       | 747kB 12.4MB/s eta 0:00:01\r\u001b[K    76% |████████████████████████▋       | 757kB 12.4MB/s eta 0:00:01\r\u001b[K    77% |████████████████████████▉       | 768kB 13.8MB/s eta 0:00:01\r\u001b[K    78% |█████████████████████████▏      | 778kB 13.9MB/s eta 0:00:01\r\u001b[K    79% |█████████████████████████▌      | 788kB 13.8MB/s eta 0:00:01\r\u001b[K    80% |█████████████████████████▉      | 798kB 13.7MB/s eta 0:00:01\r\u001b[K    81% |██████████████████████████▏     | 808kB 52.9MB/s eta 0:00:01\r\u001b[K    82% |██████████████████████████▌     | 819kB 59.6MB/s eta 0:00:01\r\u001b[K    83% |██████████████████████████▉     | 829kB 60.9MB/s eta 0:00:01\r\u001b[K    85% |███████████████████████████▏    | 839kB 63.6MB/s eta 0:00:01\r\u001b[K    86% |███████████████████████████▌    | 849kB 64.4MB/s eta 0:00:01\r\u001b[K    87% |███████████████████████████▉    | 860kB 49.1MB/s eta 0:00:01\r\u001b[K    88% |████████████████████████████▏   | 870kB 47.5MB/s eta 0:00:01\r\u001b[K    89% |████████████████████████████▌   | 880kB 47.9MB/s eta 0:00:01\r\u001b[K    90% |████████████████████████████▉   | 890kB 49.2MB/s eta 0:00:01\r\u001b[K    91% |█████████████████████████████▏  | 901kB 49.2MB/s eta 0:00:01\r\u001b[K    92% |█████████████████████████████▌  | 911kB 50.4MB/s eta 0:00:01\r\u001b[K    93% |█████████████████████████████▉  | 921kB 50.4MB/s eta 0:00:01\r\u001b[K    94% |██████████████████████████████▏ | 931kB 51.2MB/s eta 0:00:01\r\u001b[K    95% |██████████████████████████████▌ | 942kB 51.0MB/s eta 0:00:01\r\u001b[K    96% |██████████████████████████████▉ | 952kB 50.1MB/s eta 0:00:01\r\u001b[K    97% |███████████████████████████████▏| 962kB 68.2MB/s eta 0:00:01\r\u001b[K    98% |███████████████████████████████▌| 972kB 70.0MB/s eta 0:00:01\r\u001b[K    99% |███████████████████████████████▉| 983kB 69.6MB/s eta 0:00:01\r\u001b[K    100% |████████████████████████████████| 993kB 17.5MB/s \n",
            "\u001b[?25h  Building wheel for PyDrive (setup.py) ... \u001b[?25ldone\n",
            "\u001b[?25h"
          ],
          "name": "stdout"
        }
      ]
    },
    {
      "metadata": {
        "id": "5CyMvm3pxNc1",
        "colab_type": "code",
        "colab": {}
      },
      "cell_type": "code",
      "source": [
        "upload = drive.CreateFile({'title': 'captcha_test.tfrecord'})\n",
        "upload.SetContentFile('captcha_test.tfrecord')\n",
        "upload.Upload()\n",
        "\n",
        "upload = drive.CreateFile({'title': 'captcha_train.tfrecord'})\n",
        "upload.SetContentFile('captcha_train.tfrecord')\n",
        "upload.Upload()\n",
        "\n",
        "upload = drive.CreateFile({'title': 'captcha_validation.tfrecord'})\n",
        "upload.SetContentFile('captcha_validation.tfrecord')\n",
        "upload.Upload()\n",
        "\n"
      ],
      "execution_count": 0,
      "outputs": []
    },
    {
      "metadata": {
        "id": "7miU7mnOQ35x",
        "colab_type": "code",
        "colab": {}
      },
      "cell_type": "code",
      "source": [
        ""
      ],
      "execution_count": 0,
      "outputs": []
    }
  ]
}